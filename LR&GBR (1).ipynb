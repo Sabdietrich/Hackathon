{
 "cells": [
  {
   "cell_type": "code",
   "execution_count": 13,
   "id": "be53a8bb-471c-4531-8f35-d7b241f37cfc",
   "metadata": {},
   "outputs": [],
   "source": [
    "import pandas as pd\n",
    "from sklearn.preprocessing import MinMaxScaler\n",
    "from sklearn.model_selection import train_test_split\n",
    "from sklearn.ensemble import GradientBoostingRegressor\n",
    "from sklearn.linear_model import LinearRegression\n",
    "from sklearn.metrics import mean_absolute_error, mean_squared_error, r2_score\n",
    "import numpy as np"
   ]
  },
  {
   "cell_type": "code",
   "execution_count": 8,
   "id": "6c3f84db-07fe-4377-a084-c177230cef20",
   "metadata": {},
   "outputs": [],
   "source": [
    "def data_preprocess(data):\n",
    "    data.drop(columns=['index', 'id_product'], inplace=True)\n",
    "\n",
    "    data['Product Life cycel status'] = data['Product Life cycel status'].fillna('Active')\n",
    "\n",
    "    data['Reference proxy'] = [int(s[10:]) for s in data['Reference proxy']]\n",
    "    \n",
    "    '''\n",
    "    Month 1 missing data process: \n",
    "    '''\n",
    "    data = data.fillna('0') \n",
    "\n",
    "    data['Month 1'] = [int(str(s).replace(' ', '')) for s in data['Month 1'].values]\n",
    "    data['Month 2'] = [int(str(s).replace(' ', '')) for s in data['Month 2'].values]\n",
    "    data['Month 3'] = [int(str(s).replace(' ', '')) for s in data['Month 3'].values]\n",
    "\n",
    "    return data"
   ]
  },
  {
   "cell_type": "code",
   "execution_count": 9,
   "id": "c1181d90-b635-4cd3-ba5f-079d0aa85e91",
   "metadata": {},
   "outputs": [],
   "source": [
    "#data_train = pd.read_csv('datasets_hi4/train-data.csv', sep=';')\n",
    "data_train = pd.read_csv('C:\\\\Users\\\\sabri\\\\OneDrive\\\\Documentos\\\\hackathon\\\\train-data.csv', sep=';')\n",
    "\n",
    "\n",
    "y = data_train['Month 4'].values\n",
    "y = np.array([int(s.replace(' ', '')) for s in y])\n",
    "data_train.drop(columns=['Month 4'], inplace=True)\n",
    "\n",
    "data = data_preprocess(data_train)"
   ]
  },
  {
   "cell_type": "code",
   "execution_count": 10,
   "id": "ae0f60c5-66e3-41e2-b198-9902bee257b6",
   "metadata": {},
   "outputs": [],
   "source": [
    "X_values = data[['Reference proxy', 'Month 1', 'Month 2', 'Month 3']].values\n",
    "data.drop(columns=['Reference proxy', 'Month 1', 'Month 2', 'Month 3'], inplace=True)\n",
    "\n",
    "X_Encodes = data.values\n",
    "\n",
    "# Label encoding\n",
    "from sklearn.preprocessing import OrdinalEncoder\n",
    "enc = OrdinalEncoder()\n",
    "enc.fit(X_Encodes)\n",
    "X_Encodes = enc.transform(X_Encodes) \n",
    "\n",
    "X = np.concatenate((X_Encodes, X_values), axis=1)\n",
    "\n",
    "# Scaling the features\n",
    "scaler_X = MinMaxScaler()\n",
    "X = scaler_X.fit_transform(X)\n",
    "\n",
    "# Scaling the target\n",
    "scaler_y = MinMaxScaler()\n",
    "y = scaler_y.fit_transform(y.reshape(-1, 1))\n",
    "\n",
    "# Train-validation split\n",
    "X_train, X_val, y_train, y_val = train_test_split(X, y, test_size=0.2, random_state=0)"
   ]
  },
  {
   "cell_type": "markdown",
   "id": "8b51590c-0e9e-4f59-915e-412a95a957f1",
   "metadata": {},
   "source": [
    "#### LinearRegression"
   ]
  },
  {
   "cell_type": "code",
   "execution_count": 14,
   "id": "bbb5a797-44ed-4623-91c5-3fedcfb866a1",
   "metadata": {},
   "outputs": [
    {
     "name": "stdout",
     "output_type": "stream",
     "text": [
      "LinearRegression Metrics:\n",
      "Mean Absolute Error (MAE): 0.00011403726328207897\n",
      "Mean Squared Error (MSE): 6.785461655746554e-06\n",
      "R^2 Score: 0.43968854057255813\n"
     ]
    }
   ],
   "source": [
    "lr = LinearRegression()\n",
    "lr.fit(X_train, y_train.ravel())\n",
    "\n",
    "# Predict on validation set for Gradient Boosting Regressor\n",
    "y_val_pred_lr = lr.predict(X_val)\n",
    "\n",
    "# Metrics\n",
    "mae_lr = mean_absolute_error(y_val, y_val_pred_lr)\n",
    "mse_lr = mean_squared_error(y_val, y_val_pred_lr)\n",
    "r2_lr = r2_score(y_val, y_val_pred_lr)\n",
    "\n",
    "print(\"LinearRegression Metrics:\")\n",
    "print(\"Mean Absolute Error (MAE):\", mae_lr)\n",
    "print(\"Mean Squared Error (MSE):\", mse_lr)\n",
    "print(\"R^2 Score:\", r2_lr)"
   ]
  },
  {
   "cell_type": "markdown",
   "id": "1be4986d-3c0e-4970-9f1d-162dc77ae6ec",
   "metadata": {},
   "source": [
    "#### Gradient Boosting Regressor"
   ]
  },
  {
   "cell_type": "code",
   "execution_count": null,
   "id": "f2672b9d-65f7-4547-a463-e4818253f5ee",
   "metadata": {},
   "outputs": [],
   "source": [
    "# Gradient Boosting Regressor\n",
    "gbr = GradientBoostingRegressor(n_estimators=500, learning_rate=0.05, max_depth=4, random_state=0)\n",
    "gbr.fit(X_train, y_train.ravel())"
   ]
  },
  {
   "cell_type": "code",
   "execution_count": null,
   "id": "10f055a2-ebc1-4896-bf3b-174780de5a93",
   "metadata": {},
   "outputs": [],
   "source": [
    "# Predict on validation set for Gradient Boosting Regressor\n",
    "y_val_pred_gbr = gbr.predict(X_val)\n",
    "\n",
    "# Metrics\n",
    "mae_gbr = mean_absolute_error(y_val, y_val_pred_gbr)\n",
    "mse_gbr = mean_squared_error(y_val, y_val_pred_gbr)\n",
    "r2_gbr = r2_score(y_val, y_val_pred_gbr)\n",
    "\n",
    "print(\"Gradient Boosting Regressor Metrics:\")\n",
    "print(\"Mean Absolute Error (MAE):\", mae_gbr)\n",
    "print(\"Mean Squared Error (MSE):\", mse_gbr)\n",
    "print(\"R^2 Score:\", r2_gbr)"
   ]
  },
  {
   "cell_type": "markdown",
   "id": "28fac7f7-b282-429f-9174-26371c26fa67",
   "metadata": {},
   "source": [
    "#### Prediction"
   ]
  },
  {
   "cell_type": "code",
   "execution_count": null,
   "id": "145aadf9-02ce-4da6-a46e-96e77ddafa9c",
   "metadata": {},
   "outputs": [],
   "source": [
    "'''\n",
    "Prepairing input X_test\n",
    "'''\n",
    "data = pd.read_csv('datasets_hi4/X_test.csv', sep=';')\n",
    "index = data['index'].values\n",
    "data = data_preprocess(data)\n",
    "\n",
    "X_values = data[['Reference proxy', 'Month 1', 'Month 2', 'Month 3']].values\n",
    "data.drop(columns=['Reference proxy', 'Month 1', 'Month 2', 'Month 3'], inplace=True)\n",
    "\n",
    "X_Encodes = data.values\n",
    "\n",
    "# Label encoding\n",
    "X_Encodes = enc.transform(X_Encodes) \n",
    "X_test = np.concatenate((X_Encodes, X_values), axis=1)\n",
    "\n",
    "# Scaling the features\n",
    "X_test = scaler_X.transform(X_test)\n",
    "\n",
    "'''\n",
    "Prediction\n",
    "'''\n",
    "y_test_pred_gbr = gbr.predict(X_test)\n",
    "y_test_pred_gbr = scaler_y.inverse_transform(y_test_pred_gbr.reshape(1,-1)).reshape(-1) # Scaling back the target\n",
    "\n",
    "'''\n",
    "Make submission\n",
    "'''\n",
    "print('Generating submission.csv file...')\n",
    "\n",
    "predictions = y_test_pred_gbr\n",
    "index = index\n",
    "\n",
    "# Write the submission file\n",
    "np.savetxt(\n",
    "    'submission_'+str(np.datetime64('now'))+'.csv',\n",
    "    np.rec.fromarrays([index, predictions]),\n",
    "    fmt=['%d', '%d'],\n",
    "    delimiter=';',\n",
    "    header='index; Month 4',\n",
    "    comments='',\n",
    ")\n",
    "\n",
    "# check the csv\n",
    "!head submission_2023-12-02T12\\:00\\:03.csv\n"
   ]
  }
 ],
 "metadata": {
  "kernelspec": {
   "display_name": "Python 3 (ipykernel)",
   "language": "python",
   "name": "python3"
  },
  "language_info": {
   "codemirror_mode": {
    "name": "ipython",
    "version": 3
   },
   "file_extension": ".py",
   "mimetype": "text/x-python",
   "name": "python",
   "nbconvert_exporter": "python",
   "pygments_lexer": "ipython3",
   "version": "3.9.5"
  }
 },
 "nbformat": 4,
 "nbformat_minor": 5
}
